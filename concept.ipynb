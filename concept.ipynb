{
 "cells": [
  {
   "cell_type": "markdown",
   "metadata": {},
   "source": [
    "**Intro to Machine Learning**\n",
    "\n",
    "Machine learning is a sub-field of artificial intelligence that enables computer systems to learn and improve automatically from data without being explicitly programmed.\n",
    "\n",
    "From past events, determine a trend and predict future events with a margin of error; that's the objective of machine learning algorithms.\n",
    "\n",
    "**A brief history**\n",
    "- Rania uses a music streaming application that recommends songs. Every time she listens to, likes or skips a song, the application records these actions. Over time, the application's machine learning algorithm learns her musical preferences. One day, she discovers a new song that she loves, recommended by the application. Using machine learning, the app analysed her habits and suggested this song, making Marie's experience more personalised and enjoyable.\n",
    "\n",
    "- Similarly, in the field of insurance, Marc, who owns a car, uses a car insurance policy that adjusts her monthly premiums according to her driving habits. Thanks to a device connected to her car, the insurer collects data on her driving: speed, sudden braking, etc. The machine learning algorithm analyses this data and adjusts her premiums according to her driving habits. The machine learning algorithm analyses this data and adjusts Marie's premiums. By driving carefully, Marie's premiums are lower, and she benefits from fairer, more personalised insurance.\n"
   ]
  },
  {
   "cell_type": "markdown",
   "metadata": {},
   "source": [
    "**First Step : How Models Work**\n",
    "\n",
    "A model is a simplified representation of a reality or system, used to understand, analyse or predict its behaviour.\n",
    "the model is trained using training data to learn the relationships between the variables. It is then tested on a different set of data to adjust its parameters and, once trained, it can use new data to make predictions or classifications based on what it has learned.\n",
    "\n",
    "* We distinguish several categories of model, such as regression models (e.g. linear regression, logistic regression), classification models (e.g. decision trees, SVMs, neural networks), clustering models (e.g. K-means, DBSCAN), time series models (e.g. ARIMA, LSTM), dimensionality reduction models (e.g. PCA, t-SNE), ensemble models (e.g. random forests, boosting), and so on.\n",
    "\n",
    "-  We'll start with a model called the Decision Tree\n",
    "\n",
    "            **Decision tree example** \n",
    "\n",
    "\n",
    "              [ Do you need insurance? ]\n",
    "                            /            |             \\\n",
    "                         Yes            No         Unsure\n",
    "                         /                \\             \\\n",
    "            [ For what type of risk? ]  [No insurance]  [Ask for more information]\n",
    "              /          |           \\\n",
    "          Health        Car             Home\n",
    "         /    \       /   \      \      /    \\\n",
    "       Yes     No    Yes   No        Yes     No\n",
    "      /       \\      /       \\      /       \\\n",
    "[Health  [No  [Car   [No  [Home                 [No\n",
    " Insurance]  insurance]  Insurance]  insurance]  Insurance]  insurance]\n",
    "\n",
    "\n"
   ]
  },
  {
   "cell_type": "markdown",
   "metadata": {},
   "source": [
    "## Basic Data Exploration ##\n",
    "\n",
    "Load and understand the data (1)\n",
    "\n",
    "- The first thing to do when undertaking a machine learning project is to understand and familiarise yourself with the data collected.\n",
    "\n",
    "- You'll use the Pandas library for this (1)\n",
    "Pandas is the primary tool data scientists use for exploring and manipulating data \n",
    "\n",
    "- We will use my_data.describe() to print a summary of the data.\n",
    "\n",
    "    * Count : it shows how many rows have non-missing values.\n",
    "    * Mean : it is the arithmetic average of values for each column.\n",
    "    * Std : it is the standard deviation, which measures how numerically spread out the values are.\n",
    "    * Min :  it is the minimum value for each column\n",
    "    * 25% : it is the first quartile (Q1), the value below which 25% of the data falls. Also known as th 25th percentile.\n",
    "    * 50% : it is the median or second quartile (Q2), the value below which 50% of the data falls. It is also called the 50th percentile.\n",
    "    * 75% : Third quartile (Q3), the value below which 75% of the data falls. Also known as the 75th percentile.\n",
    "    * Max : it is the maximum value in each column\n"
   ]
  }
 ],
 "metadata": {
  "language_info": {
   "name": "python"
  }
 },
 "nbformat": 4,
 "nbformat_minor": 2
}
